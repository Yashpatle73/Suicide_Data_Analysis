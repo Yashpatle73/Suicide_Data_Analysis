{
 "cells": [
  {
   "cell_type": "code",
   "execution_count": 2,
   "id": "8b3a703b",
   "metadata": {},
   "outputs": [],
   "source": [
    "#importing Libieraries\n",
    "import pandas as pd\n",
    "import numpy as np\n",
    "import matplotlib.pyplot as plt\n",
    "%matplotlib inline\n",
    "import seaborn as sns\n",
    "plt.rcParams['figure.figsize']=(20,8)\n",
    "\n"
   ]
  },
  {
   "cell_type": "code",
   "execution_count": 3,
   "id": "2d015052",
   "metadata": {},
   "outputs": [
    {
     "data": {
      "text/plain": [
       "(237519, 7)"
      ]
     },
     "execution_count": 3,
     "metadata": {},
     "output_type": "execute_result"
    }
   ],
   "source": [
    "#importing the csv file\n",
    "df=pd.read_csv('Suicides_in_India.csv')\n",
    "df.shape"
   ]
  },
  {
   "cell_type": "code",
   "execution_count": 5,
   "id": "f97bab84",
   "metadata": {},
   "outputs": [
    {
     "data": {
      "text/html": [
       "<div>\n",
       "<style scoped>\n",
       "    .dataframe tbody tr th:only-of-type {\n",
       "        vertical-align: middle;\n",
       "    }\n",
       "\n",
       "    .dataframe tbody tr th {\n",
       "        vertical-align: top;\n",
       "    }\n",
       "\n",
       "    .dataframe thead th {\n",
       "        text-align: right;\n",
       "    }\n",
       "</style>\n",
       "<table border=\"1\" class=\"dataframe\">\n",
       "  <thead>\n",
       "    <tr style=\"text-align: right;\">\n",
       "      <th></th>\n",
       "      <th>State</th>\n",
       "      <th>Year</th>\n",
       "      <th>Type_code</th>\n",
       "      <th>Type</th>\n",
       "      <th>Gender</th>\n",
       "      <th>Age_group</th>\n",
       "      <th>Total</th>\n",
       "    </tr>\n",
       "  </thead>\n",
       "  <tbody>\n",
       "    <tr>\n",
       "      <th>0</th>\n",
       "      <td>A &amp; N ISLANDS</td>\n",
       "      <td>2001</td>\n",
       "      <td>Causes</td>\n",
       "      <td>Cancer</td>\n",
       "      <td>Male</td>\n",
       "      <td>15-29</td>\n",
       "      <td>0</td>\n",
       "    </tr>\n",
       "    <tr>\n",
       "      <th>1</th>\n",
       "      <td>A &amp; N ISLANDS</td>\n",
       "      <td>2001</td>\n",
       "      <td>Causes</td>\n",
       "      <td>Divorce</td>\n",
       "      <td>Male</td>\n",
       "      <td>60+</td>\n",
       "      <td>0</td>\n",
       "    </tr>\n",
       "    <tr>\n",
       "      <th>2</th>\n",
       "      <td>A &amp; N ISLANDS</td>\n",
       "      <td>2001</td>\n",
       "      <td>Causes</td>\n",
       "      <td>Dowry Dispute</td>\n",
       "      <td>Female</td>\n",
       "      <td>60+</td>\n",
       "      <td>0</td>\n",
       "    </tr>\n",
       "    <tr>\n",
       "      <th>3</th>\n",
       "      <td>A &amp; N ISLANDS</td>\n",
       "      <td>2001</td>\n",
       "      <td>Causes</td>\n",
       "      <td>Ideological Causes/Hero Worshipping</td>\n",
       "      <td>Female</td>\n",
       "      <td>60+</td>\n",
       "      <td>0</td>\n",
       "    </tr>\n",
       "    <tr>\n",
       "      <th>4</th>\n",
       "      <td>A &amp; N ISLANDS</td>\n",
       "      <td>2001</td>\n",
       "      <td>Causes</td>\n",
       "      <td>Illness (Aids/STD)</td>\n",
       "      <td>Female</td>\n",
       "      <td>0-14</td>\n",
       "      <td>0</td>\n",
       "    </tr>\n",
       "    <tr>\n",
       "      <th>5</th>\n",
       "      <td>A &amp; N ISLANDS</td>\n",
       "      <td>2001</td>\n",
       "      <td>Causes</td>\n",
       "      <td>Paralysis</td>\n",
       "      <td>Male</td>\n",
       "      <td>45-59</td>\n",
       "      <td>0</td>\n",
       "    </tr>\n",
       "    <tr>\n",
       "      <th>6</th>\n",
       "      <td>A &amp; N ISLANDS</td>\n",
       "      <td>2001</td>\n",
       "      <td>Causes</td>\n",
       "      <td>Property Dispute</td>\n",
       "      <td>Male</td>\n",
       "      <td>0-14</td>\n",
       "      <td>0</td>\n",
       "    </tr>\n",
       "    <tr>\n",
       "      <th>7</th>\n",
       "      <td>A &amp; N ISLANDS</td>\n",
       "      <td>2001</td>\n",
       "      <td>Causes</td>\n",
       "      <td>Suspected/Illicit Relation</td>\n",
       "      <td>Female</td>\n",
       "      <td>15-29</td>\n",
       "      <td>0</td>\n",
       "    </tr>\n",
       "    <tr>\n",
       "      <th>8</th>\n",
       "      <td>A &amp; N ISLANDS</td>\n",
       "      <td>2001</td>\n",
       "      <td>Means_adopted</td>\n",
       "      <td>By Consuming Insecticides</td>\n",
       "      <td>Female</td>\n",
       "      <td>0-14</td>\n",
       "      <td>0</td>\n",
       "    </tr>\n",
       "    <tr>\n",
       "      <th>9</th>\n",
       "      <td>A &amp; N ISLANDS</td>\n",
       "      <td>2001</td>\n",
       "      <td>Means_adopted</td>\n",
       "      <td>By Fire/Self Immolation</td>\n",
       "      <td>Female</td>\n",
       "      <td>30-44</td>\n",
       "      <td>1</td>\n",
       "    </tr>\n",
       "  </tbody>\n",
       "</table>\n",
       "</div>"
      ],
      "text/plain": [
       "           State  Year      Type_code                                 Type   \n",
       "0  A & N ISLANDS  2001         Causes                               Cancer  \\\n",
       "1  A & N ISLANDS  2001         Causes                              Divorce   \n",
       "2  A & N ISLANDS  2001         Causes                        Dowry Dispute   \n",
       "3  A & N ISLANDS  2001         Causes  Ideological Causes/Hero Worshipping   \n",
       "4  A & N ISLANDS  2001         Causes                   Illness (Aids/STD)   \n",
       "5  A & N ISLANDS  2001         Causes                            Paralysis   \n",
       "6  A & N ISLANDS  2001         Causes                     Property Dispute   \n",
       "7  A & N ISLANDS  2001         Causes           Suspected/Illicit Relation   \n",
       "8  A & N ISLANDS  2001  Means_adopted            By Consuming Insecticides   \n",
       "9  A & N ISLANDS  2001  Means_adopted              By Fire/Self Immolation   \n",
       "\n",
       "   Gender Age_group  Total  \n",
       "0    Male     15-29      0  \n",
       "1    Male       60+      0  \n",
       "2  Female       60+      0  \n",
       "3  Female       60+      0  \n",
       "4  Female      0-14      0  \n",
       "5    Male     45-59      0  \n",
       "6    Male      0-14      0  \n",
       "7  Female     15-29      0  \n",
       "8  Female      0-14      0  \n",
       "9  Female     30-44      1  "
      ]
     },
     "execution_count": 5,
     "metadata": {},
     "output_type": "execute_result"
    }
   ],
   "source": [
    "df.head(10)"
   ]
  },
  {
   "cell_type": "code",
   "execution_count": 6,
   "id": "7a1ab287",
   "metadata": {},
   "outputs": [
    {
     "data": {
      "text/html": [
       "<div>\n",
       "<style scoped>\n",
       "    .dataframe tbody tr th:only-of-type {\n",
       "        vertical-align: middle;\n",
       "    }\n",
       "\n",
       "    .dataframe tbody tr th {\n",
       "        vertical-align: top;\n",
       "    }\n",
       "\n",
       "    .dataframe thead th {\n",
       "        text-align: right;\n",
       "    }\n",
       "</style>\n",
       "<table border=\"1\" class=\"dataframe\">\n",
       "  <thead>\n",
       "    <tr style=\"text-align: right;\">\n",
       "      <th></th>\n",
       "      <th>State</th>\n",
       "      <th>Year</th>\n",
       "      <th>Type_code</th>\n",
       "      <th>Type</th>\n",
       "      <th>Gender</th>\n",
       "      <th>Age_group</th>\n",
       "      <th>Total</th>\n",
       "    </tr>\n",
       "  </thead>\n",
       "  <tbody>\n",
       "    <tr>\n",
       "      <th>0</th>\n",
       "      <td>A &amp; N ISLANDS</td>\n",
       "      <td>2001</td>\n",
       "      <td>Causes</td>\n",
       "      <td>Cancer</td>\n",
       "      <td>Male</td>\n",
       "      <td>15-29</td>\n",
       "      <td>0</td>\n",
       "    </tr>\n",
       "    <tr>\n",
       "      <th>1</th>\n",
       "      <td>A &amp; N ISLANDS</td>\n",
       "      <td>2001</td>\n",
       "      <td>Causes</td>\n",
       "      <td>Divorce</td>\n",
       "      <td>Male</td>\n",
       "      <td>60+</td>\n",
       "      <td>0</td>\n",
       "    </tr>\n",
       "    <tr>\n",
       "      <th>2</th>\n",
       "      <td>A &amp; N ISLANDS</td>\n",
       "      <td>2001</td>\n",
       "      <td>Causes</td>\n",
       "      <td>Dowry Dispute</td>\n",
       "      <td>Female</td>\n",
       "      <td>60+</td>\n",
       "      <td>0</td>\n",
       "    </tr>\n",
       "    <tr>\n",
       "      <th>3</th>\n",
       "      <td>A &amp; N ISLANDS</td>\n",
       "      <td>2001</td>\n",
       "      <td>Causes</td>\n",
       "      <td>Ideological Causes/Hero Worshipping</td>\n",
       "      <td>Female</td>\n",
       "      <td>60+</td>\n",
       "      <td>0</td>\n",
       "    </tr>\n",
       "    <tr>\n",
       "      <th>4</th>\n",
       "      <td>A &amp; N ISLANDS</td>\n",
       "      <td>2001</td>\n",
       "      <td>Causes</td>\n",
       "      <td>Illness (Aids/STD)</td>\n",
       "      <td>Female</td>\n",
       "      <td>0-14</td>\n",
       "      <td>0</td>\n",
       "    </tr>\n",
       "    <tr>\n",
       "      <th>...</th>\n",
       "      <td>...</td>\n",
       "      <td>...</td>\n",
       "      <td>...</td>\n",
       "      <td>...</td>\n",
       "      <td>...</td>\n",
       "      <td>...</td>\n",
       "      <td>...</td>\n",
       "    </tr>\n",
       "    <tr>\n",
       "      <th>237514</th>\n",
       "      <td>WEST BENGAL</td>\n",
       "      <td>2012</td>\n",
       "      <td>Professional_Profile</td>\n",
       "      <td>Professional Activity</td>\n",
       "      <td>Male</td>\n",
       "      <td>60+</td>\n",
       "      <td>0</td>\n",
       "    </tr>\n",
       "    <tr>\n",
       "      <th>237515</th>\n",
       "      <td>WEST BENGAL</td>\n",
       "      <td>2012</td>\n",
       "      <td>Professional_Profile</td>\n",
       "      <td>Self-employed (Business activity)</td>\n",
       "      <td>Male</td>\n",
       "      <td>0-14</td>\n",
       "      <td>0</td>\n",
       "    </tr>\n",
       "    <tr>\n",
       "      <th>237516</th>\n",
       "      <td>WEST BENGAL</td>\n",
       "      <td>2012</td>\n",
       "      <td>Professional_Profile</td>\n",
       "      <td>Service (Government)</td>\n",
       "      <td>Male</td>\n",
       "      <td>15-29</td>\n",
       "      <td>0</td>\n",
       "    </tr>\n",
       "    <tr>\n",
       "      <th>237517</th>\n",
       "      <td>WEST BENGAL</td>\n",
       "      <td>2012</td>\n",
       "      <td>Professional_Profile</td>\n",
       "      <td>Service (Government)</td>\n",
       "      <td>Male</td>\n",
       "      <td>60+</td>\n",
       "      <td>0</td>\n",
       "    </tr>\n",
       "    <tr>\n",
       "      <th>237518</th>\n",
       "      <td>WEST BENGAL</td>\n",
       "      <td>2012</td>\n",
       "      <td>Social_Status</td>\n",
       "      <td>Never Married</td>\n",
       "      <td>Male</td>\n",
       "      <td>0-100+</td>\n",
       "      <td>2658</td>\n",
       "    </tr>\n",
       "  </tbody>\n",
       "</table>\n",
       "<p>237519 rows × 7 columns</p>\n",
       "</div>"
      ],
      "text/plain": [
       "                State  Year             Type_code   \n",
       "0       A & N ISLANDS  2001                Causes  \\\n",
       "1       A & N ISLANDS  2001                Causes   \n",
       "2       A & N ISLANDS  2001                Causes   \n",
       "3       A & N ISLANDS  2001                Causes   \n",
       "4       A & N ISLANDS  2001                Causes   \n",
       "...               ...   ...                   ...   \n",
       "237514    WEST BENGAL  2012  Professional_Profile   \n",
       "237515    WEST BENGAL  2012  Professional_Profile   \n",
       "237516    WEST BENGAL  2012  Professional_Profile   \n",
       "237517    WEST BENGAL  2012  Professional_Profile   \n",
       "237518    WEST BENGAL  2012         Social_Status   \n",
       "\n",
       "                                       Type  Gender Age_group  Total  \n",
       "0                                    Cancer    Male     15-29      0  \n",
       "1                                   Divorce    Male       60+      0  \n",
       "2                             Dowry Dispute  Female       60+      0  \n",
       "3       Ideological Causes/Hero Worshipping  Female       60+      0  \n",
       "4                        Illness (Aids/STD)  Female      0-14      0  \n",
       "...                                     ...     ...       ...    ...  \n",
       "237514                Professional Activity    Male       60+      0  \n",
       "237515    Self-employed (Business activity)    Male      0-14      0  \n",
       "237516                 Service (Government)    Male     15-29      0  \n",
       "237517                 Service (Government)    Male       60+      0  \n",
       "237518                        Never Married    Male    0-100+   2658  \n",
       "\n",
       "[237519 rows x 7 columns]"
      ]
     },
     "execution_count": 6,
     "metadata": {},
     "output_type": "execute_result"
    }
   ],
   "source": [
    "df"
   ]
  },
  {
   "cell_type": "code",
   "execution_count": 9,
   "id": "8820574d",
   "metadata": {},
   "outputs": [
    {
     "data": {
      "text/plain": [
       "State        0\n",
       "Year         0\n",
       "Type_code    0\n",
       "Type         0\n",
       "Gender       0\n",
       "Age_group    0\n",
       "Total        0\n",
       "dtype: int64"
      ]
     },
     "execution_count": 9,
     "metadata": {},
     "output_type": "execute_result"
    }
   ],
   "source": [
    "df.isnull().sum()"
   ]
  },
  {
   "cell_type": "code",
   "execution_count": 10,
   "id": "03e65a20",
   "metadata": {},
   "outputs": [
    {
     "name": "stdout",
     "output_type": "stream",
     "text": [
      "<class 'pandas.core.frame.DataFrame'>\n",
      "RangeIndex: 237519 entries, 0 to 237518\n",
      "Data columns (total 7 columns):\n",
      " #   Column     Non-Null Count   Dtype \n",
      "---  ------     --------------   ----- \n",
      " 0   State      237519 non-null  object\n",
      " 1   Year       237519 non-null  int64 \n",
      " 2   Type_code  237519 non-null  object\n",
      " 3   Type       237519 non-null  object\n",
      " 4   Gender     237519 non-null  object\n",
      " 5   Age_group  237519 non-null  object\n",
      " 6   Total      237519 non-null  int64 \n",
      "dtypes: int64(2), object(5)\n",
      "memory usage: 12.7+ MB\n"
     ]
    }
   ],
   "source": [
    "df.info()"
   ]
  },
  {
   "cell_type": "code",
   "execution_count": 11,
   "id": "4cbb53a6",
   "metadata": {},
   "outputs": [
    {
     "data": {
      "text/plain": [
       "State        object\n",
       "Year          int64\n",
       "Type_code    object\n",
       "Type         object\n",
       "Gender       object\n",
       "Age_group    object\n",
       "Total         int64\n",
       "dtype: object"
      ]
     },
     "execution_count": 11,
     "metadata": {},
     "output_type": "execute_result"
    }
   ],
   "source": [
    "df.dtypes"
   ]
  },
  {
   "cell_type": "code",
   "execution_count": 12,
   "id": "965d7a67",
   "metadata": {},
   "outputs": [
    {
     "data": {
      "text/html": [
       "<div>\n",
       "<style scoped>\n",
       "    .dataframe tbody tr th:only-of-type {\n",
       "        vertical-align: middle;\n",
       "    }\n",
       "\n",
       "    .dataframe tbody tr th {\n",
       "        vertical-align: top;\n",
       "    }\n",
       "\n",
       "    .dataframe thead th {\n",
       "        text-align: right;\n",
       "    }\n",
       "</style>\n",
       "<table border=\"1\" class=\"dataframe\">\n",
       "  <thead>\n",
       "    <tr style=\"text-align: right;\">\n",
       "      <th></th>\n",
       "      <th>Year</th>\n",
       "      <th>Total</th>\n",
       "    </tr>\n",
       "  </thead>\n",
       "  <tbody>\n",
       "    <tr>\n",
       "      <th>count</th>\n",
       "      <td>237519.000000</td>\n",
       "      <td>237519.000000</td>\n",
       "    </tr>\n",
       "    <tr>\n",
       "      <th>mean</th>\n",
       "      <td>2006.500448</td>\n",
       "      <td>55.034477</td>\n",
       "    </tr>\n",
       "    <tr>\n",
       "      <th>std</th>\n",
       "      <td>3.452240</td>\n",
       "      <td>792.749038</td>\n",
       "    </tr>\n",
       "    <tr>\n",
       "      <th>min</th>\n",
       "      <td>2001.000000</td>\n",
       "      <td>0.000000</td>\n",
       "    </tr>\n",
       "    <tr>\n",
       "      <th>25%</th>\n",
       "      <td>2004.000000</td>\n",
       "      <td>0.000000</td>\n",
       "    </tr>\n",
       "    <tr>\n",
       "      <th>50%</th>\n",
       "      <td>2007.000000</td>\n",
       "      <td>0.000000</td>\n",
       "    </tr>\n",
       "    <tr>\n",
       "      <th>75%</th>\n",
       "      <td>2010.000000</td>\n",
       "      <td>6.000000</td>\n",
       "    </tr>\n",
       "    <tr>\n",
       "      <th>max</th>\n",
       "      <td>2012.000000</td>\n",
       "      <td>63343.000000</td>\n",
       "    </tr>\n",
       "  </tbody>\n",
       "</table>\n",
       "</div>"
      ],
      "text/plain": [
       "                Year          Total\n",
       "count  237519.000000  237519.000000\n",
       "mean     2006.500448      55.034477\n",
       "std         3.452240     792.749038\n",
       "min      2001.000000       0.000000\n",
       "25%      2004.000000       0.000000\n",
       "50%      2007.000000       0.000000\n",
       "75%      2010.000000       6.000000\n",
       "max      2012.000000   63343.000000"
      ]
     },
     "execution_count": 12,
     "metadata": {},
     "output_type": "execute_result"
    }
   ],
   "source": [
    "df.describe()"
   ]
  },
  {
   "cell_type": "code",
   "execution_count": 17,
   "id": "464a4c7f",
   "metadata": {},
   "outputs": [
    {
     "data": {
      "text/plain": [
       "array(['Cancer', 'Divorce', 'Dowry Dispute',\n",
       "       'Ideological Causes/Hero Worshipping', 'Illness (Aids/STD)',\n",
       "       'Paralysis', 'Property Dispute', 'Suspected/Illicit Relation',\n",
       "       'By Consuming Insecticides', 'By Fire/Self Immolation',\n",
       "       'By Hanging', 'By Machine', 'By Other means (please specify)',\n",
       "       'By Overdose of sleeping pills', 'By Self Infliction of injury',\n",
       "       'By touching electric wires', 'House Wife',\n",
       "       'Others (Please Specify)', 'Public Sector Undertaking',\n",
       "       'Self-employed (Business activity)', 'Service (Government)',\n",
       "       'Bankruptcy or Sudden change in Economic Status',\n",
       "       'Cancellation/Non-Settlement of Marriage', 'Death of Dear Person',\n",
       "       'By coming under running vehicles/trains', 'By Fire-Arms',\n",
       "       'By Other means', 'Farming/Agriculture Activity', 'Retired Person',\n",
       "       'Failure in Examination', 'Fall in Social Reputation',\n",
       "       'Family Problems', 'Illegitimate Pregnancy',\n",
       "       'Other Prolonged Illness',\n",
       "       'Hr. Secondary/Intermediate/Pre-Universit', 'By Drowning',\n",
       "       'By Jumping from (Other sites)', 'By Over Alcoholism',\n",
       "       'Bankruptcy or Sudden change in Economic',\n",
       "       'Insanity/Mental Illness', 'Love Affairs',\n",
       "       'Other Causes (Please Specity)',\n",
       "       'Physical Abuse (Rape/Incest Etc.)', 'Poverty',\n",
       "       'Professional/Career Problem', 'Unemployment', 'Student',\n",
       "       'Drug Abuse/Addiction', 'By Jumping off Moving Vehicles/Trains',\n",
       "       'Unemployed', 'Never Married',\n",
       "       'Not having Children(Barrenness/Impotency',\n",
       "       'By Jumping from (Building)', 'Married', 'Service (Private)',\n",
       "       'Causes Not known', 'Not having Children (Barrenness/Impotency',\n",
       "       'Middle', 'Professional Activity', 'By Consuming Other Poison',\n",
       "       'Widowed/Widower', 'Diploma', 'Matriculate/Secondary', 'Seperated',\n",
       "       'Divorcee', 'No Education', 'Post Graduate and Above', 'Primary',\n",
       "       'Graduate'], dtype=object)"
      ]
     },
     "execution_count": 17,
     "metadata": {},
     "output_type": "execute_result"
    }
   ],
   "source": [
    "df['Type'].unique()"
   ]
  },
  {
   "cell_type": "code",
   "execution_count": 18,
   "id": "2eddc50a",
   "metadata": {},
   "outputs": [
    {
     "data": {
      "text/plain": [
       "Index(['State', 'Year', 'Type_code', 'Type', 'Gender', 'Age_group', 'Total'], dtype='object')"
      ]
     },
     "execution_count": 18,
     "metadata": {},
     "output_type": "execute_result"
    }
   ],
   "source": [
    "df.columns"
   ]
  },
  {
   "cell_type": "code",
   "execution_count": 19,
   "id": "358aabaf",
   "metadata": {},
   "outputs": [
    {
     "data": {
      "text/plain": [
       "State          38\n",
       "Year           12\n",
       "Type_code       5\n",
       "Type           69\n",
       "Gender          2\n",
       "Age_group       6\n",
       "Total        2180\n",
       "dtype: int64"
      ]
     },
     "execution_count": 19,
     "metadata": {},
     "output_type": "execute_result"
    }
   ],
   "source": [
    "df.nunique()"
   ]
  },
  {
   "cell_type": "code",
   "execution_count": 20,
   "id": "4ba141be",
   "metadata": {},
   "outputs": [
    {
     "data": {
      "text/plain": [
       "array(['Cancer', 'Divorce', 'Dowry Dispute',\n",
       "       'Ideological Causes/Hero Worshipping', 'Illness (Aids/STD)',\n",
       "       'Paralysis', 'Property Dispute', 'Suspected/Illicit Relation',\n",
       "       'By Consuming Insecticides', 'By Fire/Self Immolation',\n",
       "       'By Hanging', 'By Machine', 'By Other means (please specify)',\n",
       "       'By Overdose of sleeping pills', 'By Self Infliction of injury',\n",
       "       'By touching electric wires', 'House Wife',\n",
       "       'Others (Please Specify)', 'Public Sector Undertaking',\n",
       "       'Self-employed (Business activity)', 'Service (Government)',\n",
       "       'Bankruptcy or Sudden change in Economic Status',\n",
       "       'Cancellation/Non-Settlement of Marriage', 'Death of Dear Person',\n",
       "       'By coming under running vehicles/trains', 'By Fire-Arms',\n",
       "       'By Other means', 'Farming/Agriculture Activity', 'Retired Person',\n",
       "       'Failure in Examination', 'Fall in Social Reputation',\n",
       "       'Family Problems', 'Illegitimate Pregnancy',\n",
       "       'Other Prolonged Illness',\n",
       "       'Hr. Secondary/Intermediate/Pre-Universit', 'By Drowning',\n",
       "       'By Jumping from (Other sites)', 'By Over Alcoholism',\n",
       "       'Bankruptcy or Sudden change in Economic',\n",
       "       'Insanity/Mental Illness', 'Love Affairs',\n",
       "       'Other Causes (Please Specity)',\n",
       "       'Physical Abuse (Rape/Incest Etc.)', 'Poverty',\n",
       "       'Professional/Career Problem', 'Unemployment', 'Student',\n",
       "       'Drug Abuse/Addiction', 'By Jumping off Moving Vehicles/Trains',\n",
       "       'Unemployed', 'Never Married',\n",
       "       'Not having Children(Barrenness/Impotency',\n",
       "       'By Jumping from (Building)', 'Married', 'Service (Private)',\n",
       "       'Causes Not known', 'Not having Children (Barrenness/Impotency',\n",
       "       'Middle', 'Professional Activity', 'By Consuming Other Poison',\n",
       "       'Widowed/Widower', 'Diploma', 'Matriculate/Secondary', 'Seperated',\n",
       "       'Divorcee', 'No Education', 'Post Graduate and Above', 'Primary',\n",
       "       'Graduate'], dtype=object)"
      ]
     },
     "execution_count": 20,
     "metadata": {},
     "output_type": "execute_result"
    }
   ],
   "source": [
    "df['Type'].unique()"
   ]
  },
  {
   "cell_type": "code",
   "execution_count": 22,
   "id": "b6440220",
   "metadata": {},
   "outputs": [
    {
     "data": {
      "text/html": [
       "<div>\n",
       "<style scoped>\n",
       "    .dataframe tbody tr th:only-of-type {\n",
       "        vertical-align: middle;\n",
       "    }\n",
       "\n",
       "    .dataframe tbody tr th {\n",
       "        vertical-align: top;\n",
       "    }\n",
       "\n",
       "    .dataframe thead th {\n",
       "        text-align: right;\n",
       "    }\n",
       "</style>\n",
       "<table border=\"1\" class=\"dataframe\">\n",
       "  <thead>\n",
       "    <tr style=\"text-align: right;\">\n",
       "      <th></th>\n",
       "      <th>Total</th>\n",
       "    </tr>\n",
       "    <tr>\n",
       "      <th>Year</th>\n",
       "      <th></th>\n",
       "    </tr>\n",
       "  </thead>\n",
       "  <tbody>\n",
       "    <tr>\n",
       "      <th>2001</th>\n",
       "      <td>976464</td>\n",
       "    </tr>\n",
       "    <tr>\n",
       "      <th>2002</th>\n",
       "      <td>993648</td>\n",
       "    </tr>\n",
       "    <tr>\n",
       "      <th>2003</th>\n",
       "      <td>997622</td>\n",
       "    </tr>\n",
       "    <tr>\n",
       "      <th>2004</th>\n",
       "      <td>1023137</td>\n",
       "    </tr>\n",
       "    <tr>\n",
       "      <th>2005</th>\n",
       "      <td>1025201</td>\n",
       "    </tr>\n",
       "    <tr>\n",
       "      <th>2006</th>\n",
       "      <td>1062991</td>\n",
       "    </tr>\n",
       "    <tr>\n",
       "      <th>2007</th>\n",
       "      <td>1103667</td>\n",
       "    </tr>\n",
       "    <tr>\n",
       "      <th>2008</th>\n",
       "      <td>1125082</td>\n",
       "    </tr>\n",
       "    <tr>\n",
       "      <th>2009</th>\n",
       "      <td>1144033</td>\n",
       "    </tr>\n",
       "    <tr>\n",
       "      <th>2010</th>\n",
       "      <td>1211322</td>\n",
       "    </tr>\n",
       "    <tr>\n",
       "      <th>2011</th>\n",
       "      <td>1219499</td>\n",
       "    </tr>\n",
       "    <tr>\n",
       "      <th>2012</th>\n",
       "      <td>1189068</td>\n",
       "    </tr>\n",
       "  </tbody>\n",
       "</table>\n",
       "</div>"
      ],
      "text/plain": [
       "        Total\n",
       "Year         \n",
       "2001   976464\n",
       "2002   993648\n",
       "2003   997622\n",
       "2004  1023137\n",
       "2005  1025201\n",
       "2006  1062991\n",
       "2007  1103667\n",
       "2008  1125082\n",
       "2009  1144033\n",
       "2010  1211322\n",
       "2011  1219499\n",
       "2012  1189068"
      ]
     },
     "execution_count": 22,
     "metadata": {},
     "output_type": "execute_result"
    }
   ],
   "source": [
    "df.groupby('Year')['Total'].sum().to_frame()"
   ]
  },
  {
   "cell_type": "code",
   "execution_count": 25,
   "id": "522cddd4",
   "metadata": {},
   "outputs": [
    {
     "data": {
      "text/plain": [
       "Year\n",
       "2001     976464\n",
       "2002     993648\n",
       "2003     997622\n",
       "2004    1023137\n",
       "2005    1025201\n",
       "2006    1062991\n",
       "2007    1103667\n",
       "2008    1125082\n",
       "2009    1144033\n",
       "2010    1211322\n",
       "2011    1219499\n",
       "2012    1189068\n",
       "Name: Total, dtype: int64"
      ]
     },
     "execution_count": 25,
     "metadata": {},
     "output_type": "execute_result"
    }
   ],
   "source": [
    "#sucides Per Year\n",
    "peryear=df.groupby('Year')['Total'].sum()\n",
    "peryear"
   ]
  },
  {
   "cell_type": "code",
   "execution_count": 26,
   "id": "7151cead",
   "metadata": {},
   "outputs": [
    {
     "data": {
      "text/plain": [
       "[Text(0.5, 1.0, 'TOTAL SUICIDES PER YEAR')]"
      ]
     },
     "execution_count": 26,
     "metadata": {},
     "output_type": "execute_result"
    },
    {
     "data": {
      "image/png": "[encoded data removed]",
      "text/plain": [
       "<Figure size 2000x800 with 1 Axes>"
      ]
     },
     "metadata": {},
     "output_type": "display_data"
    }
   ],
   "source": [
    "sns.barplot(x=peryear.index, y=peryear, data =df).set(title= \"TOTAL SUICIDES PER YEAR\")"
   ]
  },
  {
   "cell_type": "code",
   "execution_count": 27,
   "id": "3b78f811",
   "metadata": {},
   "outputs": [
    {
     "data": {
      "text/plain": [
       "<Axes: xlabel='Year', ylabel='Total'>"
      ]
     },
     "execution_count": 27,
     "metadata": {},
     "output_type": "execute_result"
    },
    {
     "data": {
      "image/png": "[encoded data removed]",
      "text/plain": [
       "<Figure size 2000x800 with 1 Axes>"
      ]
     },
     "metadata": {},
     "output_type": "display_data"
    }
   ],
   "source": [
    "#suiside due to unemployment\n",
    "suiduetouemp= df[df['Type']=='Unemployment'].groupby(\"Year\")[\"Total\"].sum().sort_values(ascending=False)\n",
    "sns.barplot(x=suiduetouemp.index, y=suiduetouemp)"
   ]
  },
  {
   "cell_type": "code",
   "execution_count": 28,
   "id": "5b97d4f1",
   "metadata": {},
   "outputs": [
    {
     "data": {
      "text/plain": [
       "Type\n",
       "Married                                           3065322\n",
       "Primary                                           1088481\n",
       "Middle                                            1028913\n",
       "No Education                                       965271\n",
       "Never Married                                      954903\n",
       "                                                   ...   \n",
       "Bankruptcy or Sudden change in Economic Status       2655\n",
       "Illegitimate Pregnancy                               2494\n",
       "Ideological Causes/Hero Worshipping                  2118\n",
       "By Machine                                           1661\n",
       "Not having Children (Barrenness/Impotency             766\n",
       "Name: Total, Length: 69, dtype: int64"
      ]
     },
     "execution_count": 28,
     "metadata": {},
     "output_type": "execute_result"
    }
   ],
   "source": [
    "#causes of suicide\n",
    "suicauses=df.groupby(\"Type\")['Total'].sum().sort_values(ascending=False)\n",
    "suicauses"
   ]
  },
  {
   "cell_type": "code",
   "execution_count": 29,
   "id": "a6b0c4ff",
   "metadata": {},
   "outputs": [
    {
     "data": {
      "text/plain": [
       "<Axes: xlabel='Type', ylabel='Total'>"
      ]
     },
     "execution_count": 29,
     "metadata": {},
     "output_type": "execute_result"
    },
    {
     "data": {
      "image/png": "[encoded data removed]",
      "text/plain": [
       "<Figure size 2000x800 with 1 Axes>"
      ]
     },
     "metadata": {},
     "output_type": "display_data"
    }
   ],
   "source": [
    "sns.barplot(x=suicauses.index[:10], y=suicauses[:10])"
   ]
  },
  {
   "cell_type": "code",
   "execution_count": 30,
   "id": "cc583db6",
   "metadata": {},
   "outputs": [
    {
     "data": {
      "text/plain": [
       "Gender\n",
       "Male      118879\n",
       "Female    118640\n",
       "Name: count, dtype: int64"
      ]
     },
     "execution_count": 30,
     "metadata": {},
     "output_type": "execute_result"
    }
   ],
   "source": [
    "#Gender data \n",
    "df['Gender'].value_counts()"
   ]
  },
  {
   "cell_type": "code",
   "execution_count": 31,
   "id": "57067a4f",
   "metadata": {},
   "outputs": [
    {
     "data": {
      "text/plain": [
       "([<matplotlib.patches.Wedge at 0x29f81f9e750>,\n",
       "  <matplotlib.patches.Wedge at 0x29f8258f8d0>],\n",
       " [Text(-0.0017386668802414063, 1.099998625925269, 'Males'),\n",
       "  Text(0.0017386668802412718, -1.099998625925269, 'Females')],\n",
       " [Text(-0.0009483637528589488, 0.599999250504692, '50%'),\n",
       "  Text(0.0009483637528588754, -0.599999250504692, '50%')])"
      ]
     },
     "execution_count": 31,
     "metadata": {},
     "output_type": "execute_result"
    },
    {
     "data": {
      "image/png": "[encoded data removed]",
      "text/plain": [
       "<Figure size 2000x800 with 1 Axes>"
      ]
     },
     "metadata": {},
     "output_type": "display_data"
    }
   ],
   "source": [
    "plt.pie(df['Gender'].value_counts(),labels=['Males','Females'],autopct='%1.0f%%')"
   ]
  },
  {
   "cell_type": "code",
   "execution_count": 39,
   "id": "49eae807",
   "metadata": {},
   "outputs": [
    {
     "data": {
      "text/html": [
       "<div>\n",
       "<style scoped>\n",
       "    .dataframe tbody tr th:only-of-type {\n",
       "        vertical-align: middle;\n",
       "    }\n",
       "\n",
       "    .dataframe tbody tr th {\n",
       "        vertical-align: top;\n",
       "    }\n",
       "\n",
       "    .dataframe thead th {\n",
       "        text-align: right;\n",
       "    }\n",
       "</style>\n",
       "<table border=\"1\" class=\"dataframe\">\n",
       "  <thead>\n",
       "    <tr style=\"text-align: right;\">\n",
       "      <th></th>\n",
       "      <th>State</th>\n",
       "      <th>Year</th>\n",
       "      <th>Type_code</th>\n",
       "      <th>Type</th>\n",
       "      <th>Gender</th>\n",
       "      <th>Age_group</th>\n",
       "      <th>Total</th>\n",
       "    </tr>\n",
       "  </thead>\n",
       "  <tbody>\n",
       "    <tr>\n",
       "      <th>0</th>\n",
       "      <td>A &amp; N ISLANDS</td>\n",
       "      <td>2001</td>\n",
       "      <td>Causes</td>\n",
       "      <td>Cancer</td>\n",
       "      <td>Male</td>\n",
       "      <td>15-29</td>\n",
       "      <td>0</td>\n",
       "    </tr>\n",
       "    <tr>\n",
       "      <th>1</th>\n",
       "      <td>A &amp; N ISLANDS</td>\n",
       "      <td>2001</td>\n",
       "      <td>Causes</td>\n",
       "      <td>Divorce</td>\n",
       "      <td>Male</td>\n",
       "      <td>60+</td>\n",
       "      <td>0</td>\n",
       "    </tr>\n",
       "    <tr>\n",
       "      <th>2</th>\n",
       "      <td>A &amp; N ISLANDS</td>\n",
       "      <td>2001</td>\n",
       "      <td>Causes</td>\n",
       "      <td>Dowry Dispute</td>\n",
       "      <td>Female</td>\n",
       "      <td>60+</td>\n",
       "      <td>0</td>\n",
       "    </tr>\n",
       "    <tr>\n",
       "      <th>3</th>\n",
       "      <td>A &amp; N ISLANDS</td>\n",
       "      <td>2001</td>\n",
       "      <td>Causes</td>\n",
       "      <td>Ideological Causes/Hero Worshipping</td>\n",
       "      <td>Female</td>\n",
       "      <td>60+</td>\n",
       "      <td>0</td>\n",
       "    </tr>\n",
       "    <tr>\n",
       "      <th>4</th>\n",
       "      <td>A &amp; N ISLANDS</td>\n",
       "      <td>2001</td>\n",
       "      <td>Causes</td>\n",
       "      <td>Illness (Aids/STD)</td>\n",
       "      <td>Female</td>\n",
       "      <td>0-14</td>\n",
       "      <td>0</td>\n",
       "    </tr>\n",
       "  </tbody>\n",
       "</table>\n",
       "</div>"
      ],
      "text/plain": [
       "           State  Year Type_code                                 Type  Gender   \n",
       "0  A & N ISLANDS  2001    Causes                               Cancer    Male  \\\n",
       "1  A & N ISLANDS  2001    Causes                              Divorce    Male   \n",
       "2  A & N ISLANDS  2001    Causes                        Dowry Dispute  Female   \n",
       "3  A & N ISLANDS  2001    Causes  Ideological Causes/Hero Worshipping  Female   \n",
       "4  A & N ISLANDS  2001    Causes                   Illness (Aids/STD)  Female   \n",
       "\n",
       "  Age_group  Total  \n",
       "0     15-29      0  \n",
       "1       60+      0  \n",
       "2       60+      0  \n",
       "3       60+      0  \n",
       "4      0-14      0  "
      ]
     },
     "execution_count": 39,
     "metadata": {},
     "output_type": "execute_result"
    }
   ],
   "source": [
    "df.head()"
   ]
  },
  {
   "cell_type": "code",
   "execution_count": 40,
   "id": "eb1294c2",
   "metadata": {},
   "outputs": [
    {
     "data": {
      "text/plain": [
       "Age_group\n",
       "15-29     45223\n",
       "30-44     45193\n",
       "45-59     45146\n",
       "60+       45074\n",
       "0-14      45027\n",
       "0-100+    11856\n",
       "Name: count, dtype: int64"
      ]
     },
     "execution_count": 40,
     "metadata": {},
     "output_type": "execute_result"
    }
   ],
   "source": [
    "agegrp=df['Age_group'].value_counts()\n",
    "agegrp"
   ]
  },
  {
   "cell_type": "code",
   "execution_count": 41,
   "id": "830e473c",
   "metadata": {},
   "outputs": [
    {
     "data": {
      "text/plain": [
       "Gender\n",
       "Female    456\n",
       "Male      456\n",
       "Name: count, dtype: int64"
      ]
     },
     "execution_count": 41,
     "metadata": {},
     "output_type": "execute_result"
    }
   ],
   "source": [
    "#age group mostlikely to suicides\n",
    "\n",
    "df[df['Type']==\"Married\"]['Gender'].value_counts()"
   ]
  },
  {
   "cell_type": "code",
   "execution_count": 42,
   "id": "d4f742ac",
   "metadata": {},
   "outputs": [
    {
     "data": {
      "text/plain": [
       "<Axes: xlabel='Age_group', ylabel='count'>"
      ]
     },
     "execution_count": 42,
     "metadata": {},
     "output_type": "execute_result"
    },
    {
     "data": {
      "image/png": "[encoded data removed]",
      "text/plain": [
       "<Figure size 2000x800 with 1 Axes>"
      ]
     },
     "metadata": {},
     "output_type": "display_data"
    }
   ],
   "source": [
    "sns.barplot(x=agegrp.index,y=agegrp)"
   ]
  },
  {
   "cell_type": "code",
   "execution_count": 43,
   "id": "bf8d3377",
   "metadata": {},
   "outputs": [
    {
     "data": {
      "text/plain": [
       "State\n",
       "TOTAL (ALL INDIA)    2911862\n",
       "TOTAL (STATES)       2858026\n",
       "MAHARASHTRA           901945\n",
       "WEST BENGAL           849936\n",
       "TAMIL NADU            818691\n",
       "ANDHRA PRADESH        814059\n",
       "KARNATAKA             734825\n",
       "KERALA                538946\n",
       "MADHYA PRADESH        451535\n",
       "GUJARAT               330858\n",
       "CHHATTISGARH          302354\n",
       "ODISHA                267234\n",
       "RAJASTHAN             255134\n",
       "UTTAR PRADESH         233352\n",
       "ASSAM                 172276\n",
       "HARYANA               147176\n",
       "DELHI (UT)             84272\n",
       "TOTAL (UTs)            53836\n",
       "JHARKHAND              49720\n",
       "PUNJAB                 46350\n",
       "BIHAR                  46214\n",
       "TRIPURA                45965\n",
       "PUDUCHERRY             32144\n",
       "HIMACHAL PRADESH       26562\n",
       "UTTARAKHAND            18496\n",
       "GOA                    17363\n",
       "JAMMU & KASHMIR        14821\n",
       "SIKKIM                  9606\n",
       "A & N ISLANDS           8109\n",
       "ARUNACHAL PRADESH       6633\n",
       "MEGHALAYA               5415\n",
       "CHANDIGARH              5164\n",
       "MIZORAM                 4154\n",
       "D & N HAVELI            3430\n",
       "MANIPUR                 2102\n",
       "NAGALAND                1728\n",
       "DAMAN & DIU             1391\n",
       "LAKSHADWEEP               50\n",
       "Name: Total, dtype: int64"
      ]
     },
     "execution_count": 43,
     "metadata": {},
     "output_type": "execute_result"
    }
   ],
   "source": [
    "#states having highest count\n",
    "states=df.groupby('State')['Total'].sum().sort_values(ascending=False)\n",
    "states"
   ]
  },
  {
   "cell_type": "code",
   "execution_count": 44,
   "id": "540eddf9",
   "metadata": {},
   "outputs": [
    {
     "data": {
      "text/html": [
       "<div>\n",
       "<style scoped>\n",
       "    .dataframe tbody tr th:only-of-type {\n",
       "        vertical-align: middle;\n",
       "    }\n",
       "\n",
       "    .dataframe tbody tr th {\n",
       "        vertical-align: top;\n",
       "    }\n",
       "\n",
       "    .dataframe thead th {\n",
       "        text-align: right;\n",
       "    }\n",
       "</style>\n",
       "<table border=\"1\" class=\"dataframe\">\n",
       "  <thead>\n",
       "    <tr style=\"text-align: right;\">\n",
       "      <th></th>\n",
       "      <th>State</th>\n",
       "      <th>Year</th>\n",
       "      <th>Type_code</th>\n",
       "      <th>Type</th>\n",
       "      <th>Gender</th>\n",
       "      <th>Age_group</th>\n",
       "      <th>Total</th>\n",
       "    </tr>\n",
       "  </thead>\n",
       "  <tbody>\n",
       "    <tr>\n",
       "      <th>237514</th>\n",
       "      <td>WEST BENGAL</td>\n",
       "      <td>2012</td>\n",
       "      <td>Professional_Profile</td>\n",
       "      <td>Professional Activity</td>\n",
       "      <td>Male</td>\n",
       "      <td>60+</td>\n",
       "      <td>0</td>\n",
       "    </tr>\n",
       "    <tr>\n",
       "      <th>237515</th>\n",
       "      <td>WEST BENGAL</td>\n",
       "      <td>2012</td>\n",
       "      <td>Professional_Profile</td>\n",
       "      <td>Self-employed (Business activity)</td>\n",
       "      <td>Male</td>\n",
       "      <td>0-14</td>\n",
       "      <td>0</td>\n",
       "    </tr>\n",
       "    <tr>\n",
       "      <th>237516</th>\n",
       "      <td>WEST BENGAL</td>\n",
       "      <td>2012</td>\n",
       "      <td>Professional_Profile</td>\n",
       "      <td>Service (Government)</td>\n",
       "      <td>Male</td>\n",
       "      <td>15-29</td>\n",
       "      <td>0</td>\n",
       "    </tr>\n",
       "    <tr>\n",
       "      <th>237517</th>\n",
       "      <td>WEST BENGAL</td>\n",
       "      <td>2012</td>\n",
       "      <td>Professional_Profile</td>\n",
       "      <td>Service (Government)</td>\n",
       "      <td>Male</td>\n",
       "      <td>60+</td>\n",
       "      <td>0</td>\n",
       "    </tr>\n",
       "    <tr>\n",
       "      <th>237518</th>\n",
       "      <td>WEST BENGAL</td>\n",
       "      <td>2012</td>\n",
       "      <td>Social_Status</td>\n",
       "      <td>Never Married</td>\n",
       "      <td>Male</td>\n",
       "      <td>0-100+</td>\n",
       "      <td>2658</td>\n",
       "    </tr>\n",
       "  </tbody>\n",
       "</table>\n",
       "</div>"
      ],
      "text/plain": [
       "              State  Year             Type_code   \n",
       "237514  WEST BENGAL  2012  Professional_Profile  \\\n",
       "237515  WEST BENGAL  2012  Professional_Profile   \n",
       "237516  WEST BENGAL  2012  Professional_Profile   \n",
       "237517  WEST BENGAL  2012  Professional_Profile   \n",
       "237518  WEST BENGAL  2012         Social_Status   \n",
       "\n",
       "                                     Type Gender Age_group  Total  \n",
       "237514              Professional Activity   Male       60+      0  \n",
       "237515  Self-employed (Business activity)   Male      0-14      0  \n",
       "237516               Service (Government)   Male     15-29      0  \n",
       "237517               Service (Government)   Male       60+      0  \n",
       "237518                      Never Married   Male    0-100+   2658  "
      ]
     },
     "execution_count": 44,
     "metadata": {},
     "output_type": "execute_result"
    }
   ],
   "source": [
    "df.tail()"
   ]
  },
  {
   "cell_type": "code",
   "execution_count": 45,
   "id": "63be358d",
   "metadata": {},
   "outputs": [
    {
     "data": {
      "text/html": [
       "<div>\n",
       "<style scoped>\n",
       "    .dataframe tbody tr th:only-of-type {\n",
       "        vertical-align: middle;\n",
       "    }\n",
       "\n",
       "    .dataframe tbody tr th {\n",
       "        vertical-align: top;\n",
       "    }\n",
       "\n",
       "    .dataframe thead th {\n",
       "        text-align: right;\n",
       "    }\n",
       "</style>\n",
       "<table border=\"1\" class=\"dataframe\">\n",
       "  <thead>\n",
       "    <tr style=\"text-align: right;\">\n",
       "      <th></th>\n",
       "      <th>State</th>\n",
       "      <th>Year</th>\n",
       "      <th>Type_code</th>\n",
       "      <th>Type</th>\n",
       "      <th>Gender</th>\n",
       "      <th>Age_group</th>\n",
       "      <th>Total</th>\n",
       "    </tr>\n",
       "  </thead>\n",
       "  <tbody>\n",
       "    <tr>\n",
       "      <th>0</th>\n",
       "      <td>A &amp; N ISLANDS</td>\n",
       "      <td>2001</td>\n",
       "      <td>Causes</td>\n",
       "      <td>Cancer</td>\n",
       "      <td>Male</td>\n",
       "      <td>15-29</td>\n",
       "      <td>0</td>\n",
       "    </tr>\n",
       "    <tr>\n",
       "      <th>1</th>\n",
       "      <td>A &amp; N ISLANDS</td>\n",
       "      <td>2001</td>\n",
       "      <td>Causes</td>\n",
       "      <td>Divorce</td>\n",
       "      <td>Male</td>\n",
       "      <td>60+</td>\n",
       "      <td>0</td>\n",
       "    </tr>\n",
       "    <tr>\n",
       "      <th>2</th>\n",
       "      <td>A &amp; N ISLANDS</td>\n",
       "      <td>2001</td>\n",
       "      <td>Causes</td>\n",
       "      <td>Dowry Dispute</td>\n",
       "      <td>Female</td>\n",
       "      <td>60+</td>\n",
       "      <td>0</td>\n",
       "    </tr>\n",
       "    <tr>\n",
       "      <th>3</th>\n",
       "      <td>A &amp; N ISLANDS</td>\n",
       "      <td>2001</td>\n",
       "      <td>Causes</td>\n",
       "      <td>Ideological Causes/Hero Worshipping</td>\n",
       "      <td>Female</td>\n",
       "      <td>60+</td>\n",
       "      <td>0</td>\n",
       "    </tr>\n",
       "    <tr>\n",
       "      <th>4</th>\n",
       "      <td>A &amp; N ISLANDS</td>\n",
       "      <td>2001</td>\n",
       "      <td>Causes</td>\n",
       "      <td>Illness (Aids/STD)</td>\n",
       "      <td>Female</td>\n",
       "      <td>0-14</td>\n",
       "      <td>0</td>\n",
       "    </tr>\n",
       "  </tbody>\n",
       "</table>\n",
       "</div>"
      ],
      "text/plain": [
       "           State  Year Type_code                                 Type  Gender   \n",
       "0  A & N ISLANDS  2001    Causes                               Cancer    Male  \\\n",
       "1  A & N ISLANDS  2001    Causes                              Divorce    Male   \n",
       "2  A & N ISLANDS  2001    Causes                        Dowry Dispute  Female   \n",
       "3  A & N ISLANDS  2001    Causes  Ideological Causes/Hero Worshipping  Female   \n",
       "4  A & N ISLANDS  2001    Causes                   Illness (Aids/STD)  Female   \n",
       "\n",
       "  Age_group  Total  \n",
       "0     15-29      0  \n",
       "1       60+      0  \n",
       "2       60+      0  \n",
       "3       60+      0  \n",
       "4      0-14      0  "
      ]
     },
     "execution_count": 45,
     "metadata": {},
     "output_type": "execute_result"
    }
   ],
   "source": [
    "df.head()"
   ]
  },
  {
   "cell_type": "code",
   "execution_count": 50,
   "id": "a3621cb8",
   "metadata": {},
   "outputs": [
    {
     "data": {
      "text/plain": [
       "<Axes: xlabel='State', ylabel='Total'>"
      ]
     },
     "execution_count": 50,
     "metadata": {},
     "output_type": "execute_result"
    },
    {
     "data": {
      "image/png": "[encoded data removed]",
      "text/plain": [
       "<Figure size 2000x800 with 1 Axes>"
      ]
     },
     "metadata": {},
     "output_type": "display_data"
    }
   ],
   "source": [
    "sns.barplot(x=states.index[2:11],y=states[2:11])"
   ]
  },
  {
   "cell_type": "code",
   "execution_count": 52,
   "id": "2a40866e",
   "metadata": {},
   "outputs": [
    {
     "data": {
      "text/plain": [
       "State\n",
       "LAKSHADWEEP               50\n",
       "DAMAN & DIU             1391\n",
       "NAGALAND                1728\n",
       "MANIPUR                 2102\n",
       "D & N HAVELI            3430\n",
       "MIZORAM                 4154\n",
       "CHANDIGARH              5164\n",
       "MEGHALAYA               5415\n",
       "ARUNACHAL PRADESH       6633\n",
       "A & N ISLANDS           8109\n",
       "SIKKIM                  9606\n",
       "JAMMU & KASHMIR        14821\n",
       "GOA                    17363\n",
       "UTTARAKHAND            18496\n",
       "HIMACHAL PRADESH       26562\n",
       "PUDUCHERRY             32144\n",
       "TRIPURA                45965\n",
       "BIHAR                  46214\n",
       "PUNJAB                 46350\n",
       "JHARKHAND              49720\n",
       "TOTAL (UTs)            53836\n",
       "DELHI (UT)             84272\n",
       "HARYANA               147176\n",
       "ASSAM                 172276\n",
       "UTTAR PRADESH         233352\n",
       "RAJASTHAN             255134\n",
       "ODISHA                267234\n",
       "CHHATTISGARH          302354\n",
       "GUJARAT               330858\n",
       "MADHYA PRADESH        451535\n",
       "KERALA                538946\n",
       "KARNATAKA             734825\n",
       "ANDHRA PRADESH        814059\n",
       "TAMIL NADU            818691\n",
       "WEST BENGAL           849936\n",
       "MAHARASHTRA           901945\n",
       "TOTAL (STATES)       2858026\n",
       "TOTAL (ALL INDIA)    2911862\n",
       "Name: Total, dtype: int64"
      ]
     },
     "execution_count": 52,
     "metadata": {},
     "output_type": "execute_result"
    }
   ],
   "source": [
    "states=df.groupby('State')[\"Total\"].sum().sort_values(ascending=True)\n",
    "states"
   ]
  },
  {
   "cell_type": "code",
   "execution_count": 54,
   "id": "83651211",
   "metadata": {},
   "outputs": [
    {
     "data": {
      "text/plain": [
       "<Axes: xlabel='State', ylabel='Total'>"
      ]
     },
     "execution_count": 54,
     "metadata": {},
     "output_type": "execute_result"
    },
    {
     "data": {
      "image/png": "[encoded data removed]",
      "text/plain": [
       "<Figure size 2000x800 with 1 Axes>"
      ]
     },
     "metadata": {},
     "output_type": "display_data"
    }
   ],
   "source": [
    "sns.barplot(x=states.index[:11],y=states[:11])"
   ]
  },
  {
   "cell_type": "code",
   "execution_count": 55,
   "id": "78349234",
   "metadata": {},
   "outputs": [
    {
     "data": {
      "text/html": [
       "<div>\n",
       "<style scoped>\n",
       "    .dataframe tbody tr th:only-of-type {\n",
       "        vertical-align: middle;\n",
       "    }\n",
       "\n",
       "    .dataframe tbody tr th {\n",
       "        vertical-align: top;\n",
       "    }\n",
       "\n",
       "    .dataframe thead th {\n",
       "        text-align: right;\n",
       "    }\n",
       "</style>\n",
       "<table border=\"1\" class=\"dataframe\">\n",
       "  <thead>\n",
       "    <tr style=\"text-align: right;\">\n",
       "      <th></th>\n",
       "      <th>State</th>\n",
       "      <th>Year</th>\n",
       "      <th>Type_code</th>\n",
       "      <th>Type</th>\n",
       "      <th>Gender</th>\n",
       "      <th>Age_group</th>\n",
       "      <th>Total</th>\n",
       "    </tr>\n",
       "  </thead>\n",
       "  <tbody>\n",
       "    <tr>\n",
       "      <th>0</th>\n",
       "      <td>A &amp; N ISLANDS</td>\n",
       "      <td>2001</td>\n",
       "      <td>Causes</td>\n",
       "      <td>Cancer</td>\n",
       "      <td>Male</td>\n",
       "      <td>15-29</td>\n",
       "      <td>0</td>\n",
       "    </tr>\n",
       "    <tr>\n",
       "      <th>1</th>\n",
       "      <td>A &amp; N ISLANDS</td>\n",
       "      <td>2001</td>\n",
       "      <td>Causes</td>\n",
       "      <td>Divorce</td>\n",
       "      <td>Male</td>\n",
       "      <td>60+</td>\n",
       "      <td>0</td>\n",
       "    </tr>\n",
       "    <tr>\n",
       "      <th>2</th>\n",
       "      <td>A &amp; N ISLANDS</td>\n",
       "      <td>2001</td>\n",
       "      <td>Causes</td>\n",
       "      <td>Dowry Dispute</td>\n",
       "      <td>Female</td>\n",
       "      <td>60+</td>\n",
       "      <td>0</td>\n",
       "    </tr>\n",
       "  </tbody>\n",
       "</table>\n",
       "</div>"
      ],
      "text/plain": [
       "           State  Year Type_code           Type  Gender Age_group  Total\n",
       "0  A & N ISLANDS  2001    Causes         Cancer    Male     15-29      0\n",
       "1  A & N ISLANDS  2001    Causes        Divorce    Male       60+      0\n",
       "2  A & N ISLANDS  2001    Causes  Dowry Dispute  Female       60+      0"
      ]
     },
     "execution_count": 55,
     "metadata": {},
     "output_type": "execute_result"
    }
   ],
   "source": [
    "df.head(3)"
   ]
  },
  {
   "cell_type": "code",
   "execution_count": 66,
   "id": "268a4f5f",
   "metadata": {},
   "outputs": [
    {
     "data": {
      "text/plain": [
       "Type\n",
       "By Hanging                                        176914\n",
       "Others (Please Specify)                           155539\n",
       "House Wife                                        127984\n",
       "Family Problems                                   125681\n",
       "By Consuming Insecticides                         104929\n",
       "Causes Not known                                   90839\n",
       "By Consuming Other Poison                          85190\n",
       "Other Causes (Please Specity)                      81003\n",
       "Student                                            70838\n",
       "By Fire/Self Immolation                            57408\n",
       "Farming/Agriculture Activity                       53741\n",
       "Other Prolonged Illness                            52458\n",
       "Unemployed                                         47123\n",
       "By Other means (please specify)                    44724\n",
       "Service (Private)                                  39512\n",
       "By Drowning                                        37282\n",
       "Love Affairs                                       34273\n",
       "Insanity/Mental Illness                            28482\n",
       "Failure in Examination                             25592\n",
       "Dowry Dispute                                      23211\n",
       "Self-employed (Business activity)                  20544\n",
       "By coming under running vehicles/trains            14395\n",
       "Unemployment                                       12505\n",
       "Professional Activity                              11230\n",
       "Public Sector Undertaking                           9528\n",
       "Poverty                                             8450\n",
       "Suspected/Illicit Relation                          7756\n",
       "Cancellation/Non-Settlement of Marriage             7752\n",
       "Drug Abuse/Addiction                                7492\n",
       "Service (Government)                                5926\n",
       "Bankruptcy or Sudden change in Economic             5903\n",
       "Fall in Social Reputation                           4888\n",
       "Property Dispute                                    4399\n",
       "By touching electric wires                          4127\n",
       "Death of Dear Person                                3687\n",
       "Professional/Career Problem                         3510\n",
       "By Other means                                      3263\n",
       "By Over Alcoholism                                  3050\n",
       "By Overdose of sleeping pills                       2989\n",
       "By Jumping from (Other sites)                       2957\n",
       "Not having Children(Barrenness/Impotency            2828\n",
       "By Jumping off Moving Vehicles/Trains               2791\n",
       "By Jumping from (Building)                          2702\n",
       "By Fire-Arms                                        2533\n",
       "Illness (Aids/STD)                                  2519\n",
       "Physical Abuse (Rape/Incest Etc.)                   2185\n",
       "By Self Infliction of injury                        1847\n",
       "Illegitimate Pregnancy                              1769\n",
       "Divorce                                             1557\n",
       "Paralysis                                           1121\n",
       "Cancer                                               956\n",
       "Ideological Causes/Hero Worshipping                  859\n",
       "By Machine                                           626\n",
       "Bankruptcy or Sudden change in Economic Status       486\n",
       "Not having Children (Barrenness/Impotency            300\n",
       "Retired Person                                       294\n",
       "Name: Total, dtype: int64"
      ]
     },
     "execution_count": 66,
     "metadata": {},
     "output_type": "execute_result"
    }
   ],
   "source": [
    "df[\"Age_group\"].unique()\n",
    "adults=df[(df[\"Age_group\"]==\"0-14\") | (df[\"Age_group\"]==\"15-29\")]\n",
    "adultsage=adults.groupby('Type')[\"Total\"].sum().sort_values(ascending=False)\n",
    "adultsage"
   ]
  },
  {
   "cell_type": "code",
   "execution_count": 68,
   "id": "0c4a0d19",
   "metadata": {},
   "outputs": [
    {
     "data": {
      "text/plain": [
       "<Axes: xlabel='Type', ylabel='Total'>"
      ]
     },
     "execution_count": 68,
     "metadata": {},
     "output_type": "execute_result"
    },
    {
     "data": {
      "image/png": "[encoded data removed]",
      "text/plain": [
       "<Figure size 2000x800 with 1 Axes>"
      ]
     },
     "metadata": {},
     "output_type": "display_data"
    }
   ],
   "source": [
    "sns.barplot(x=adultsage.index[:10],y=adultsage[:10])"
   ]
  },
  {
   "cell_type": "code",
   "execution_count": 71,
   "id": "7487bb28",
   "metadata": {},
   "outputs": [
    {
     "data": {
      "text/plain": [
       "Type\n",
       "Retired Person                                       294\n",
       "Not having Children (Barrenness/Impotency            300\n",
       "Bankruptcy or Sudden change in Economic Status       486\n",
       "By Machine                                           626\n",
       "Ideological Causes/Hero Worshipping                  859\n",
       "Cancer                                               956\n",
       "Paralysis                                           1121\n",
       "Divorce                                             1557\n",
       "Illegitimate Pregnancy                              1769\n",
       "By Self Infliction of injury                        1847\n",
       "Physical Abuse (Rape/Incest Etc.)                   2185\n",
       "Illness (Aids/STD)                                  2519\n",
       "By Fire-Arms                                        2533\n",
       "By Jumping from (Building)                          2702\n",
       "By Jumping off Moving Vehicles/Trains               2791\n",
       "Not having Children(Barrenness/Impotency            2828\n",
       "By Jumping from (Other sites)                       2957\n",
       "By Overdose of sleeping pills                       2989\n",
       "By Over Alcoholism                                  3050\n",
       "By Other means                                      3263\n",
       "Professional/Career Problem                         3510\n",
       "Death of Dear Person                                3687\n",
       "By touching electric wires                          4127\n",
       "Property Dispute                                    4399\n",
       "Fall in Social Reputation                           4888\n",
       "Bankruptcy or Sudden change in Economic             5903\n",
       "Service (Government)                                5926\n",
       "Drug Abuse/Addiction                                7492\n",
       "Cancellation/Non-Settlement of Marriage             7752\n",
       "Suspected/Illicit Relation                          7756\n",
       "Poverty                                             8450\n",
       "Public Sector Undertaking                           9528\n",
       "Professional Activity                              11230\n",
       "Unemployment                                       12505\n",
       "By coming under running vehicles/trains            14395\n",
       "Self-employed (Business activity)                  20544\n",
       "Dowry Dispute                                      23211\n",
       "Failure in Examination                             25592\n",
       "Insanity/Mental Illness                            28482\n",
       "Love Affairs                                       34273\n",
       "By Drowning                                        37282\n",
       "Service (Private)                                  39512\n",
       "By Other means (please specify)                    44724\n",
       "Unemployed                                         47123\n",
       "Other Prolonged Illness                            52458\n",
       "Farming/Agriculture Activity                       53741\n",
       "By Fire/Self Immolation                            57408\n",
       "Student                                            70838\n",
       "Other Causes (Please Specity)                      81003\n",
       "By Consuming Other Poison                          85190\n",
       "Causes Not known                                   90839\n",
       "By Consuming Insecticides                         104929\n",
       "Family Problems                                   125681\n",
       "House Wife                                        127984\n",
       "Others (Please Specify)                           155539\n",
       "By Hanging                                        176914\n",
       "Name: Total, dtype: int64"
      ]
     },
     "execution_count": 71,
     "metadata": {},
     "output_type": "execute_result"
    }
   ],
   "source": [
    "df[\"Age_group\"].unique()\n",
    "adults=df[(df[\"Age_group\"]==\"0-14\") | (df[\"Age_group\"]==\"15-29\")]\n",
    "adultsage=adults.groupby('Type')[\"Total\"].sum().sort_values(ascending=True)\n",
    "adultsage"
   ]
  },
  {
   "cell_type": "code",
   "execution_count": 75,
   "id": "0efbf924",
   "metadata": {},
   "outputs": [
    {
     "data": {
      "text/plain": [
       "(array([0, 1, 2, 3, 4, 5, 6, 7]),\n",
       " [Text(0, 0, 'Retired Person'),\n",
       "  Text(1, 0, 'Not having Children (Barrenness/Impotency'),\n",
       "  Text(2, 0, 'Bankruptcy or Sudden change in Economic Status'),\n",
       "  Text(3, 0, 'By Machine'),\n",
       "  Text(4, 0, 'Ideological Causes/Hero Worshipping'),\n",
       "  Text(5, 0, 'Cancer'),\n",
       "  Text(6, 0, 'Paralysis'),\n",
       "  Text(7, 0, 'Divorce')])"
      ]
     },
     "execution_count": 75,
     "metadata": {},
     "output_type": "execute_result"
    },
    {
     "data": {
      "image/png": "[encoded data removed]",
      "text/plain": [
       "<Figure size 2000x800 with 1 Axes>"
      ]
     },
     "metadata": {},
     "output_type": "display_data"
    }
   ],
   "source": [
    "sns.barplot(x=adultsage.index[:8],y=adultsage[:8])\n",
    "plt.xticks(rotation=40)"
   ]
  }
 ],
 "metadata": {
  "kernelspec": {
   "display_name": "Python 3 (ipykernel)",
   "language": "python",
   "name": "python3"
  },
  "language_info": {
   "codemirror_mode": {
    "name": "ipython",
    "version": 3
   },
   "file_extension": ".py",
   "mimetype": "text/x-python",
   "name": "python",
   "nbconvert_exporter": "python",
   "pygments_lexer": "ipython3",
   "version": "3.11.2"
  }
 },
 "nbformat": 4,
 "nbformat_minor": 5
}
